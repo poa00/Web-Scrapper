{
 "cells": [
  {
   "cell_type": "code",
   "execution_count": 105,
   "metadata": {},
   "outputs": [],
   "source": [
    "from flask import Flask, render_template, request, jsonify\n",
    "import requests\n",
    "from bs4 import BeautifulSoup as bs\n",
    "from urllib.request import urlopen as ureq\n",
    "import pandas as pd\n",
    "import pymongo"
   ]
  },
  {
   "cell_type": "code",
   "execution_count": 106,
   "metadata": {},
   "outputs": [],
   "source": [
    "# main\n",
    "web_url = 'https://www.flipkart.com/search?q=shoes'\n",
    "uclient = ureq(web_url)\n",
    "web_page = uclient.read()\n",
    "uclient.close()"
   ]
  },
  {
   "cell_type": "code",
   "execution_count": 107,
   "metadata": {},
   "outputs": [],
   "source": [
    "# main\n",
    "web_html = bs(web_page, 'html.parser')"
   ]
  },
  {
   "cell_type": "code",
   "execution_count": 108,
   "metadata": {},
   "outputs": [],
   "source": [
    "# main\n",
    "big_boxes = web_html.findAll('div', {'class': '_13oc-S'})"
   ]
  },
  {
   "cell_type": "code",
   "execution_count": 109,
   "metadata": {},
   "outputs": [],
   "source": [
    "# main\n",
    "links = []\n",
    "for box in big_boxes:\n",
    "    shoes = box.findAll('div', {'class': '_1xHGtK _373qXS'})\n",
    "    for shoe in shoes:\n",
    "        links.append('https://www.flipkart.com' + shoe.a['href'])"
   ]
  },
  {
   "cell_type": "code",
   "execution_count": 84,
   "metadata": {},
   "outputs": [],
   "source": [
    "# main\n",
    "name = []\n",
    "review = []\n",
    "for link in links:\n",
    "    shoe_page = requests.get(link)\n",
    "    shoe_html = bs(shoe_page.text, 'html.parser')\n",
    "    comments = shoe_html.findAll('div', {'class': '_16PBlm _2RzJ9n'})\n",
    "    for comment in comments:\n",
    "        name.append(comment.find('p', {'class': '_2sc7ZR _2V5EHH _1QgsS5'}).text)\n",
    "        review.append(comment.find('div', {'class': '_6K-7Co'}).text)"
   ]
  },
  {
   "cell_type": "code",
   "execution_count": 110,
   "metadata": {},
   "outputs": [
    {
     "data": {
      "text/plain": [
       "MongoClient(host=['localhost:27017'], document_class=dict, tz_aware=False, connect=True)"
      ]
     },
     "execution_count": 110,
     "metadata": {},
     "output_type": "execute_result"
    }
   ],
   "source": [
    "conn_url = 'mongodb://localhost:27017/'\n",
    "db_name = 'scapped_reviews'\n",
    "\n",
    "# establishing connection\n",
    "client = pymongo.MongoClient(conn_url)\n",
    "client"
   ]
  },
  {
   "cell_type": "code",
   "execution_count": 116,
   "metadata": {},
   "outputs": [],
   "source": [
    "reviews = client[db_name]\n",
    "shoes_reviews = 'shoes_reviews'\n",
    "shoes_reviews = reviews[shoes_reviews]"
   ]
  },
  {
   "cell_type": "code",
   "execution_count": 111,
   "metadata": {
    "scrolled": true
   },
   "outputs": [],
   "source": [
    "df = pd.DataFrame({'name': name,\n",
    "                   'review': review})"
   ]
  },
  {
   "cell_type": "code",
   "execution_count": 121,
   "metadata": {},
   "outputs": [],
   "source": [
    "json_list = []\n",
    "for i in range(len(name)):\n",
    "    tmp = {'_id': i,\n",
    "           'name': name[i],\n",
    "           'review': review[i]}\n",
    "    json_list.append(tmp)"
   ]
  },
  {
   "cell_type": "code",
   "execution_count": 124,
   "metadata": {},
   "outputs": [
    {
     "data": {
      "text/plain": [
       "<pymongo.results.InsertManyResult at 0x27c8ad40600>"
      ]
     },
     "execution_count": 124,
     "metadata": {},
     "output_type": "execute_result"
    }
   ],
   "source": [
    "# dumping js to our mongo server\n",
    "shoes_reviews.insert_many(json_list)"
   ]
  },
  {
   "cell_type": "code",
   "execution_count": null,
   "metadata": {},
   "outputs": [],
   "source": []
  }
 ],
 "metadata": {
  "kernelspec": {
   "display_name": "Python 3",
   "language": "python",
   "name": "python3"
  },
  "language_info": {
   "codemirror_mode": {
    "name": "ipython",
    "version": 3
   },
   "file_extension": ".py",
   "mimetype": "text/x-python",
   "name": "python",
   "nbconvert_exporter": "python",
   "pygments_lexer": "ipython3",
   "version": "3.8.5"
  }
 },
 "nbformat": 4,
 "nbformat_minor": 4
}
